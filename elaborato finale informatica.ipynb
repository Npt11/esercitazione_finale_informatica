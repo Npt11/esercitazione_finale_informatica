{
 "cells": [
  {
   "cell_type": "markdown",
   "id": "d84af36b",
   "metadata": {},
   "source": [
    "# Elaborato fine anno "
   ]
  },
  {
   "cell_type": "markdown",
   "id": "bf253c3d",
   "metadata": {},
   "source": [
    "#  1 Librerie"
   ]
  },
  {
   "cell_type": "markdown",
   "id": "7a6c3dea",
   "metadata": {},
   "source": [
    "Le librerie in Python sono insiemi di moduli, che sono file contenenti codice Python progettato per svolgere specifiche funzioni. Questi moduli possono essere importati in altri programmi Python per utilizzare le funzioni, le classi e le variabili definite in essi. Ad esempio, la libreria math fornisce funzioni matematiche"
   ]
  },
  {
   "cell_type": "markdown",
   "id": "b7d53fd3",
   "metadata": {},
   "source": [
    "# 1.1 Libreria Random"
   ]
  },
  {
   "cell_type": "markdown",
   "id": "420eb47c",
   "metadata": {},
   "source": [
    "La libreria random genera numeri casuali."
   ]
  },
  {
   "cell_type": "code",
   "execution_count": 4,
   "id": "28803ce1",
   "metadata": {},
   "outputs": [
    {
     "name": "stdout",
     "output_type": "stream",
     "text": [
      "inserisci numero3\n",
      "complimenti il numero del dado era 3. hai indovinato\n"
     ]
    }
   ],
   "source": [
    "import random \n",
    "\n",
    "numeroDado = random.randint (1, 6)\n",
    "\n",
    "indovina = int(input(\"inserisci numero\"))\n",
    "    \n",
    "\n",
    "if indovina<1 & indovina>6:\n",
    "    print(\"numero non ammesso\")\n",
    "elif indovina == numeroDado:\n",
    "    print(f\"complimenti il numero del dado era {numeroDado}. hai indovinato\")\n",
    "else:\n",
    "\n",
    "    print(f\"hai sbagliato il numero era {numeroDado}\")"
   ]
  },
  {
   "cell_type": "markdown",
   "id": "53e15496",
   "metadata": {},
   "source": [
    "# 1.2 Libreria Pandas "
   ]
  },
  {
   "cell_type": "markdown",
   "id": "59f15242",
   "metadata": {},
   "source": [
    "pandas è una libreria progettata per la manipolazione e l'analisi dei dati in Python. Introduce strutture di dati potenti come DataFrame"
   ]
  },
  {
   "cell_type": "code",
   "execution_count": 5,
   "id": "3700eb2c",
   "metadata": {},
   "outputs": [
    {
     "name": "stdout",
     "output_type": "stream",
     "text": [
      "Totale righe con dati mancanti: 5\n"
     ]
    }
   ],
   "source": [
    "import pandas as pd\n",
    "\n",
    "# Creazione del dataset con dizionari\n",
    "dataset = [\n",
    "    {\"età\": 25, \"punteggio\": 90, \"ammesso\": 1},\n",
    "    {\"età\": None, \"punteggio\": 85, \"ammesso\": 0},\n",
    "    {\"età\": 28, \"punteggio\": None, \"ammesso\": 1},\n",
    "    {\"età\": None, \"punteggio\": 75, \"ammesso\": 1},\n",
    "    {\"età\": 23, \"punteggio\": None, \"ammesso\": None},\n",
    "    {\"età\": 23, \"punteggio\": 77, \"ammesso\": None},\n",
    "]\n",
    "# Creazione di un DataFrame\n",
    "df = pd.DataFrame(dataset)\n",
    "\n",
    "# trova le righe con almeno un dato mancante\n",
    "righeDatiMancanti = df[df.isnull().any(axis=1)]\n",
    "\n",
    "# Conta le righe con dati mancanti\n",
    "totDatiMancanti = righeDatiMancanti.shape[0]\n",
    "\n",
    "\n",
    "print(\"Totale righe con dati mancanti:\", totDatiMancanti)\n"
   ]
  },
  {
   "cell_type": "markdown",
   "id": "a33115ee",
   "metadata": {},
   "source": [
    "# 2 Stringhe"
   ]
  },
  {
   "cell_type": "markdown",
   "id": "0623d821",
   "metadata": {},
   "source": [
    "Le stringhe in Python sono sequenze di caratteri.Le stringhe possono essere concatenate, indicizzate e segmentate."
   ]
  },
  {
   "cell_type": "code",
   "execution_count": 12,
   "id": "738791ae",
   "metadata": {},
   "outputs": [
    {
     "name": "stdout",
     "output_type": "stream",
     "text": [
      "C\n",
      "mondo!\n"
     ]
    }
   ],
   "source": [
    "name = input(\"inserisci il tuo nome: \")\n",
    "print(\"ciao\", name)"
   ]
  },
  {
   "cell_type": "markdown",
   "id": "97e01be4",
   "metadata": {},
   "source": [
    "# 3 Dizionari"
   ]
  },
  {
   "cell_type": "markdown",
   "id": "054f51f8",
   "metadata": {},
   "source": [
    "I dizionari in Python sono una struttura dati che memorizza i dati in coppie chiave-valore. Ogni chiave è unica e i valori possono essere di qualsiasi tipo. I dizionari sono molto utili quando si desidera associare un set di valori a una chiave specifica."
   ]
  },
  {
   "cell_type": "code",
   "execution_count": 3,
   "id": "7d87e1db",
   "metadata": {},
   "outputs": [
    {
     "name": "stdout",
     "output_type": "stream",
     "text": [
      "Inserisci il nome dello studente: Alice\n",
      "Il voto di Alice è 85.\n"
     ]
    }
   ],
   "source": [
    "studenti = {\n",
    "    'Alice': 85,\n",
    "    'Bob': 70,\n",
    "    'Charlie': 92,\n",
    "    'David': 65,\n",
    "    'Eve': 88\n",
    "}\n",
    "\n",
    "\n",
    "nome_studente = input(\"Inserisci il nome dello studente: \")\n",
    "\n",
    "\n",
    "if nome_studente in studenti:\n",
    "    voto_studente = studenti[nome_studente]\n",
    "    print(f\"Il voto di {nome_studente} è {voto_studente}.\")\n",
    "else:\n",
    "    print(f\"Lo studente {nome_studente} non è presente nel dizionario.\")\n",
    "\n"
   ]
  },
  {
   "cell_type": "markdown",
   "id": "e3b91cd1",
   "metadata": {},
   "source": [
    "# 4 Liste\n"
   ]
  },
  {
   "cell_type": "markdown",
   "id": "8132a395",
   "metadata": {},
   "source": [
    "Le liste in Python sono una struttura dati che contiene una serie di elementi. Questi elementi possono essere di qualsiasi tipo e una lista può contenere elementi di tipi diversi.Le liste sono mutabili, il che significa che gli elementi possono essere modificati dopo che la lista è stata creata. Le liste supportano operazioni come l’aggiunta di elementi (append), la rimozione di elementi (remove), e l’ordinamento degli elementi (sort)."
   ]
  },
  {
   "cell_type": "code",
   "execution_count": 2,
   "id": "4da63737",
   "metadata": {},
   "outputs": [
    {
     "name": "stdout",
     "output_type": "stream",
     "text": [
      "Personaggio fantasy generato: \n",
      "Specie: Elfo\n",
      "Classe: Ladro\n",
      "Arma: Arco\n",
      "Abilità: Invisibilità, Forza, Fuoco\n"
     ]
    }
   ],
   "source": [
    "import random\n",
    "\n",
    "\n",
    "speci = [\"Umano\", \"Elfo\", \"Nano\", \"Orco\"]\n",
    "classi = [\"Guerriero\", \"Mago\", \"Ladro\", \"Chierico\"]\n",
    "armi = [\"Spada\", \"Arco\", \"Bastone\", \"Pugnale\"]\n",
    "abilita = [\"Fuoco\", \"Gelo\", \"Cura\", \"Invisibilità\", \"Forza\", \"Velocità\"]\n",
    "\n",
    "\n",
    "specie = random.choice(speci)\n",
    "classe = random.choice(classi)\n",
    "arma = random.choice(armi)\n",
    "abilitas = random.sample(abilita, random.randint(1, 3))\n",
    "\n",
    "\n",
    "print(\"Personaggio fantasy generato: \")\n",
    "print(f\"Specie: {specie}\")\n",
    "print(f\"Classe: {classe}\")\n",
    "print(f\"Arma: {arma}\")\n",
    "print(f\"Abilità: {', '.join(abilitas)}\")"
   ]
  },
  {
   "cell_type": "markdown",
   "id": "146809fe",
   "metadata": {},
   "source": [
    "# 5 Funzioni"
   ]
  },
  {
   "cell_type": "markdown",
   "id": "5d0bc1cd",
   "metadata": {},
   "source": [
    "Le funzioni in Python sono blocchi di codice riutilizzabili che eseguono una specifica operazione. Una funzione può avere parametri di input e può restituire un valore."
   ]
  },
  {
   "cell_type": "code",
   "execution_count": 40,
   "id": "6f557f56",
   "metadata": {},
   "outputs": [
    {
     "name": "stdout",
     "output_type": "stream",
     "text": [
      "Benvenuto nella calcolatrice dell'area!\n",
      "Vuoi calcolare l'area di un cerchio (c), del rettangolo (r), del triangolo (t) o del quadrato (q)? q\n",
      "Inserisci la misura del lato: 4\n",
      "L'area del quadrato è: 16.00\n"
     ]
    }
   ],
   "source": [
    "import math\n",
    "\n",
    "\n",
    "def calcola_area_cerchio(raggio):\n",
    "    return math.pi * (raggio ** 2)  \n",
    "\n",
    "\n",
    "def calcola_area_rettangolo(base, altezza):\n",
    "    return base * altezza  \n",
    "\n",
    "\n",
    "def calcola_area_triangolo(base, altezza):\n",
    "    return base * altezza / 2  \n",
    "\n",
    "\n",
    "def calcola_area_quadrato(lato):\n",
    "    return lato * lato  \n",
    "\n",
    "\n",
    "print(\"Benvenuto nella calcolatrice dell'area!\")\n",
    "\n",
    "\n",
    "scelta = input(\"Vuoi calcolare l'area di un cerchio (c), del rettangolo (r), del triangolo (t) o del quadrato (q)? \")\n",
    "\n",
    "\n",
    "if scelta == \"c\":\n",
    "    raggio = float(input(\"Inserisci il raggio del cerchio: \"))  \n",
    "    area = calcola_area_cerchio(raggio)  \n",
    "    \n",
    "    print(f\"L'area del cerchio è {area:.2f}\") \n",
    "elif scelta == \"r\":\n",
    "    base = float(input(\"Inserisci la base del rettangolo: \"))  \n",
    "    altezza = float(input(\"Inserisci l'altezza del rettangolo: \"))  \n",
    "    area = calcola_area_rettangolo(base, altezza)  \n",
    "    print(f\"L'area del rettangolo è {area:.2f}\")  \n",
    "elif scelta == \"t\":\n",
    "    base = float(input(\"Inserisci la base del triangolo: \"))  \n",
    "    altezza = float(input(\"Inserisci l'altezza del triangolo: \"))  \n",
    "    area = calcola_area_triangolo(base, altezza)  \n",
    "    print(f\"L'area del triangolo è {area:.2f}\")  \n",
    "elif scelta == \"q\":\n",
    "    lato = float(input(\"Inserisci la misura del lato: \"))  \n",
    "    area = calcola_area_quadrato(lato)  \n",
    "    print(f\"L'area del quadrato è: {area:.2f}\")  "
   ]
  },
  {
   "cell_type": "markdown",
   "id": "43c391b6",
   "metadata": {},
   "source": [
    "# 6 Cicli"
   ]
  },
  {
   "cell_type": "markdown",
   "id": "d1ea5135",
   "metadata": {},
   "source": [
    "# 6.1 ciclo For"
   ]
  },
  {
   "cell_type": "markdown",
   "id": "40419ca0",
   "metadata": {},
   "source": [
    "Il ciclo for è comunemente usato per iterare su una sequenza (come una lista o una stringa)"
   ]
  },
  {
   "cell_type": "code",
   "execution_count": 38,
   "id": "097b7ddf",
   "metadata": {},
   "outputs": [
    {
     "name": "stdout",
     "output_type": "stream",
     "text": [
      "Quanti numeri vuoi inserire?: 5\n",
      "Inserisci un numero: 1\n",
      "Inserisci un numero: 2\n",
      "Inserisci un numero: 7\n",
      "Inserisci un numero: 9\n",
      "Inserisci un numero: 3\n",
      "La media dei numeri inseriti è:  4.4\n"
     ]
    }
   ],
   "source": [
    "numeri = []\n",
    "n = int(input(\"Quanti numeri vuoi inserire?: \"))\n",
    "for i in  range(n):\n",
    "    numero = float(input(\"Inserisci un numero: \"))\n",
    "    numeri.append(numero) \n",
    "media = sum(numeri) / len(numeri) \n",
    "print(\"La media dei numeri inseriti è: \", media)"
   ]
  },
  {
   "cell_type": "markdown",
   "id": "f88e4650",
   "metadata": {},
   "source": [
    "# 6.2 ciclo while"
   ]
  },
  {
   "cell_type": "markdown",
   "id": "de1c50a5",
   "metadata": {},
   "source": [
    "Il ciclo while continua a eseguire finché una condizione è vera."
   ]
  },
  {
   "cell_type": "code",
   "execution_count": 39,
   "id": "ab594316",
   "metadata": {},
   "outputs": [
    {
     "name": "stdout",
     "output_type": "stream",
     "text": [
      "Indovina il numero da 1 a 100: 50\n",
      "Il numero è più grande\n",
      "Indovina il numero da 1 a 100: 70\n",
      "Il numero è più piccolo\n",
      "Indovina il numero da 1 a 100: 60\n",
      "Il numero è più grande\n",
      "Indovina il numero da 1 a 100: 65\n",
      "Il numero è più piccolo\n",
      "Indovina il numero da 1 a 100: 62\n",
      "Il numero è più piccolo\n",
      "Indovina il numero da 1 a 100: 61\n",
      "Bravo hai indovinato il numero 61 in 6 tentativi!\n"
     ]
    }
   ],
   "source": [
    "import random\n",
    "\n",
    "\n",
    "numero_da_indovinare = random.randint(1, 100)\n",
    "\n",
    "\n",
    "tentativi = 0\n",
    "\n",
    "\n",
    "while True: \n",
    "    \n",
    "    tentativo = int(input(\"Indovina il numero da 1 a 100: \"))\n",
    "    tentativi += 1\n",
    "\n",
    "    \n",
    "    if tentativo == numero_da_indovinare:\n",
    "        print(\"Bravo hai indovinato il numero\", numero_da_indovinare, \"in\", tentativi, \"tentativi!\")\n",
    "        break  \n",
    "    elif tentativo < numero_da_indovinare:\n",
    "        print(\"Il numero è più grande\")\n",
    "    else:\n",
    "        print(\"Il numero è più piccolo\")"
   ]
  },
  {
   "cell_type": "markdown",
   "id": "9577fc30",
   "metadata": {},
   "source": [
    "# 7 Condizioni"
   ]
  },
  {
   "cell_type": "markdown",
   "id": "d951d9eb",
   "metadata": {},
   "source": [
    "Python utilizza le istruzioni if, elif e else per eseguire codice basato su condizioni specifiche."
   ]
  },
  {
   "cell_type": "code",
   "execution_count": 37,
   "id": "b8c69fa8",
   "metadata": {},
   "outputs": [
    {
     "name": "stdout",
     "output_type": "stream",
     "text": [
      "Inserisci l'operazione (+, -, *, /): +\n",
      "Inserisci il primo numero: 5\n",
      "Inserisci il secondo numero: 5\n",
      "Il risultato di 5.0 + 5.0 è: 10.0\n"
     ]
    }
   ],
   "source": [
    "\n",
    "operazione = input(\"Inserisci l'operazione (+, -, *, /): \")\n",
    "\n",
    "\n",
    "if not operazione in ['+', '-', '*', '/']:\n",
    "    print(\"Operazione non valida\")\n",
    "else:\n",
    "    \n",
    "    num1 = float(input(\"Inserisci il primo numero: \"))\n",
    "    num2 = float(input(\"Inserisci il secondo numero: \"))\n",
    "\n",
    "    \n",
    "    if operazione == \"+\":\n",
    "        risultato = num1 + num2  \n",
    "    elif operazione == \"-\":\n",
    "        risultato = num1 - num2  \n",
    "    elif operazione == \"*\":\n",
    "        risultato = num1 * num2  \n",
    "    elif operazione == \"/\":\n",
    "        \n",
    "        if num2 == 0:\n",
    "            risultato = \"Non è possibile dividere per zero!\"\n",
    "        else:\n",
    "            risultato = num1 / num2  \n",
    "\n",
    "    \n",
    "    print(f\"Il risultato di {num1} {operazione} {num2} è: {risultato}\")"
   ]
  },
  {
   "cell_type": "markdown",
   "id": "96160f14",
   "metadata": {},
   "source": [
    "# 8 Grafici"
   ]
  },
  {
   "cell_type": "markdown",
   "id": "e488d5d4",
   "metadata": {},
   "source": [
    "Matplotlib è una delle librerie più popolari per la creazione di grafici e visualizzazioni in Python. Introduce gli studenti alla creazione di grafici per esplorare e comunicare i dati in modo efficace."
   ]
  },
  {
   "cell_type": "markdown",
   "id": "45b4cbab",
   "metadata": {},
   "source": [
    "# 8.1 Grafico a Barre"
   ]
  },
  {
   "cell_type": "code",
   "execution_count": 25,
   "id": "0e9a0bfc",
   "metadata": {},
   "outputs": [
    {
     "data": {
      "image/png": "[encoded data removed]",
      "text/plain": [
       "<Figure size 640x480 with 1 Axes>"
      ]
     },
     "metadata": {},
     "output_type": "display_data"
    }
   ],
   "source": [
    "import matplotlib.pyplot as plt\n",
    "animali = ['Elefanti', 'Leoni', 'Tigri', 'Scimmie', 'Zebre']\n",
    "numero_animali = [4, 3, 2, 8, 15]\n",
    "plt.bar(animali, numero_animali, color=\"lightblue\")\n",
    "plt.show()"
   ]
  },
  {
   "cell_type": "markdown",
   "id": "48312378",
   "metadata": {},
   "source": [
    "# 8.2 grafico a torta"
   ]
  },
  {
   "cell_type": "code",
   "execution_count": 29,
   "id": "8b828bbd",
   "metadata": {},
   "outputs": [
    {
     "data": {
      "image/png": "[encoded data removed]",
      "text/plain": [
       "<Figure size 640x480 with 1 Axes>"
      ]
     },
     "metadata": {},
     "output_type": "display_data"
    }
   ],
   "source": [
    "import matplotlib.pyplot as plt\n",
    "\n",
    "# Crea dati di esempio\n",
    "attività = ['Lavoro', 'Studio', 'Tempo Libero']\n",
    "percentuali = [50, 30, 20]\n",
    "colori = ['gold', 'lightcoral', 'lightskyblue']\n",
    "\n",
    "#  Crea un grafico a torta\n",
    "plt.pie(percentuali, labels=attività, colors=colori, autopct='%1.1f%%')\n",
    "\n",
    "#  Personalizza il grafico\n",
    "plt.title('Utilizzo del Tempo')\n",
    "plt.axis('equal')  # Rendi il grafico a torta circolare\n",
    "\n",
    "#  Mostra il grafico risultante\n",
    "plt.show()\n"
   ]
  },
  {
   "cell_type": "markdown",
   "id": "ff044e47",
   "metadata": {},
   "source": [
    "# 8.3 Grafico Scatter Plot"
   ]
  },
  {
   "cell_type": "code",
   "execution_count": 22,
   "id": "7db96095",
   "metadata": {},
   "outputs": [
    {
     "data": {
      "image/png": "[encoded data removed]",
      "text/plain": [
       "<Figure size 640x480 with 1 Axes>"
      ]
     },
     "metadata": {},
     "output_type": "display_data"
    }
   ],
   "source": [
    "import matplotlib.pyplot as plt\n",
    "età = [14, 15, 16, 17, 18, 19]\n",
    "altezza = [160, 165, 170, 175, 180, 185]\n",
    "plt.scatter(età, altezza, color='red', marker='o')\n",
    "plt.title('Scatter Plot - Età vs Altezza')\n",
    "plt.xlabel('Età')\n",
    "plt.ylabel('Altezza (cm)')\n",
    "plt.grid(True, axis='y')\n",
    "plt.show()\n"
   ]
  },
  {
   "cell_type": "markdown",
   "id": "91b4db50",
   "metadata": {},
   "source": [
    "# 8.4 grafico a dispersione"
   ]
  },
  {
   "cell_type": "code",
   "execution_count": 27,
   "id": "dcb4c949",
   "metadata": {},
   "outputs": [
    {
     "data": {
      "image/png": "[encoded data removed]",
      "text/plain": [
       "<Figure size 640x480 with 1 Axes>"
      ]
     },
     "metadata": {},
     "output_type": "display_data"
    }
   ],
   "source": [
    "import matplotlib.pyplot as plt\n",
    "import numpy as np\n",
    "# Dati di esempio\n",
    "altezza_maschi = np.random.normal(175, 10, 50)  # Altezza dei maschi\n",
    "peso_maschi = np.random.normal(70, 5, 50)  # Peso dei maschi\n",
    "\n",
    "altezza_femmine = np.random.normal(162, 8, 50)  # Altezza delle femmine\n",
    "peso_femmine = np.random.normal(58, 4, 50)  # Peso delle femmine\n",
    "# Crea il grafico a dispersione per i maschi\n",
    "plt.scatter(altezza_maschi, peso_maschi, color='blue', label='Maschi', marker='o')\n",
    "\n",
    "# Crea il grafico a dispersione per le femmine\n",
    "plt.scatter(altezza_femmine, peso_femmine, color='pink', label='Femmine', marker='s')\n",
    "\n",
    "# Personalizza il grafico\n",
    "plt.title('Grafico a Dispersione Altezza vs Peso')\n",
    "plt.xlabel('Altezza (cm)')\n",
    "plt.ylabel('Peso (kg)')\n",
    "plt.legend(loc='upper right')\n",
    "plt.grid(True)\n",
    "\n",
    "# Mostra il grafico\n",
    "plt.show()\n"
   ]
  },
  {
   "cell_type": "markdown",
   "id": "84802c96",
   "metadata": {},
   "source": [
    "# 8.5 Grafico a Linee"
   ]
  },
  {
   "cell_type": "code",
   "execution_count": 28,
   "id": "26ae3561",
   "metadata": {},
   "outputs": [
    {
     "data": {
      "image/png": "[encoded data removed]",
      "text/plain": [
       "<Figure size 640x480 with 1 Axes>"
      ]
     },
     "metadata": {},
     "output_type": "display_data"
    }
   ],
   "source": [
    "import matplotlib.pyplot as plt\n",
    "import numpy as np\n",
    "\n",
    "#  dati di esempio\n",
    "mesi = ['Gennaio', 'Febbraio', 'Marzo', 'Aprile', 'Maggio']\n",
    "vendite = [100, 120, 90, 110, 95]\n",
    "\n",
    "#  Crea un grafico a linee\n",
    "plt.plot(mesi, vendite, marker='o', linestyle='-', color='blue')\n",
    "\n",
    "#  Personalizza il grafico\n",
    "plt.title('Vendite Mensili di un Prodotto')\n",
    "plt.xlabel('Mesi')\n",
    "plt.ylabel('Vendite')\n",
    "plt.grid(True)\n",
    "\n",
    "#  Mostra il grafico risultante\n",
    "plt.show()"
   ]
  },
  {
   "cell_type": "code",
   "execution_count": null,
   "id": "b297d18b",
   "metadata": {},
   "outputs": [],
   "source": []
  }
 ],
 "metadata": {
  "kernelspec": {
   "display_name": "Python 3 (ipykernel)",
   "language": "python",
   "name": "python3"
  },
  "language_info": {
   "codemirror_mode": {
    "name": "ipython",
    "version": 3
   },
   "file_extension": ".py",
   "mimetype": "text/x-python",
   "name": "python",
   "nbconvert_exporter": "python",
   "pygments_lexer": "ipython3",
   "version": "3.11.4"
  }
 },
 "nbformat": 4,
 "nbformat_minor": 5
}
